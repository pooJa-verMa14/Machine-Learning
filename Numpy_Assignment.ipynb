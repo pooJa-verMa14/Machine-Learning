{
  "nbformat": 4,
  "nbformat_minor": 0,
  "metadata": {
    "colab": {
      "name": "Numpy_Assignment.ipynb",
      "provenance": [],
      "authorship_tag": "ABX9TyMVW1Ofo3R4I+sg00EQsng6",
      "include_colab_link": true
    },
    "kernelspec": {
      "name": "python3",
      "display_name": "Python 3"
    },
    "language_info": {
      "name": "python"
    }
  },
  "cells": [
    {
      "cell_type": "markdown",
      "metadata": {
        "id": "view-in-github",
        "colab_type": "text"
      },
      "source": [
        "<a href=\"https://colab.research.google.com/github/pooJa-verMa14/Machine-Learning/blob/main/Numpy_Assignment.ipynb\" target=\"_parent\"><img src=\"https://colab.research.google.com/assets/colab-badge.svg\" alt=\"Open In Colab\"/></a>"
      ]
    },
    {
      "cell_type": "markdown",
      "source": [
        "\n",
        "**Assignment-1\n",
        "Based on NumPy**\n",
        "\n",
        "\n"
      ],
      "metadata": {
        "id": "2eexF3OA4cpg"
      }
    },
    {
      "cell_type": "code",
      "execution_count": null,
      "metadata": {
        "id": "wTftbMfiZofc"
      },
      "outputs": [],
      "source": [
        "import numpy as np  # linear algebra library used to handle matrices"
      ]
    },
    {
      "cell_type": "markdown",
      "source": [
        "Q1: Questions on Basic NumPy Array"
      ],
      "metadata": {
        "id": "N_aJ47f34os4"
      }
    },
    {
      "cell_type": "markdown",
      "source": [
        "(a) Reverse the NumPy array: arr = np.array([1, 2, 3, 6, 4, 5]) \n"
      ],
      "metadata": {
        "id": "hY6X-Wyc4snn"
      }
    },
    {
      "cell_type": "code",
      "source": [
        "arr = np.array([1,2,3,6,4,5]) #initializing the array\n",
        "print(f\"Initially array is --> {arr}\")\n",
        "print(f\"After reversing array is --> {np.flip(arr) }\")   #using flip fuction to reverse the elements"
      ],
      "metadata": {
        "colab": {
          "base_uri": "https://localhost:8080/"
        },
        "id": "a9b2Zjnc09Hx",
        "outputId": "575e43aa-2021-4db0-bdb9-c611925d17d5"
      },
      "execution_count": null,
      "outputs": [
        {
          "output_type": "stream",
          "name": "stdout",
          "text": [
            "Initially array is --> [1 2 3 6 4 5]\n",
            "After reversing array is --> [5 4 6 3 2 1]\n"
          ]
        }
      ]
    },
    {
      "cell_type": "markdown",
      "source": [
        "(b) Flatten the NumPy arr: array1 = np.array([[1, 2, 3], [2, 4, 5], [1, 2, 3]]) using any two\n",
        "NumPy in-built methods \n"
      ],
      "metadata": {
        "id": "P6YgmBow5ZEP"
      }
    },
    {
      "cell_type": "code",
      "source": [
        "arr1 = np.array([[1,2,3],[2,4,5],[1,2,3]]) #initializing the array\n",
        "print(f\"Initially array is --> {arr1}\")\n",
        "print(f\"After flatten array row wise is --> {arr1.flatten()}\")  # it will flatten the array row wise\n",
        "print(f\"After flatten array column wise is --> {arr1.flatten('F')}\")  # it will flatten the array column wise"
      ],
      "metadata": {
        "colab": {
          "base_uri": "https://localhost:8080/"
        },
        "id": "GZE782V61VlW",
        "outputId": "608396a7-a735-4e7c-ac86-fda9e4e4178f"
      },
      "execution_count": null,
      "outputs": [
        {
          "output_type": "stream",
          "name": "stdout",
          "text": [
            "Initially array is --> [[1 2 3]\n",
            " [2 4 5]\n",
            " [1 2 3]]\n",
            "After flatten array row wise is --> [1 2 3 2 4 5 1 2 3]\n",
            "After flatten array column wise is --> [1 2 1 2 4 2 3 5 3]\n"
          ]
        }
      ]
    },
    {
      "cell_type": "markdown",
      "source": [
        "(c) Compare the following numpy arrays:\n",
        "\n",
        "arr1 = np.array([[1, 2], [3, 4]])\n",
        "\n",
        "arr2 = np.array([[1, 2], [3, 4]])"
      ],
      "metadata": {
        "id": "_pnF1z5e6DH3"
      }
    },
    {
      "cell_type": "code",
      "source": [
        "arr1=np.array([[1,2],[3,4]]) \n",
        "arr2 = np.array([[1, 2], [3, 4]])\n",
        "comparison = arr1 == arr2\n",
        "equal_arrays = comparison.all()\n",
        "print(equal_arrays)\n"
      ],
      "metadata": {
        "colab": {
          "base_uri": "https://localhost:8080/"
        },
        "id": "Db6EH6Gt2pc3",
        "outputId": "385fd062-43ca-4a94-e526-1783a8f56d15"
      },
      "execution_count": null,
      "outputs": [
        {
          "output_type": "stream",
          "name": "stdout",
          "text": [
            "True\n"
          ]
        }
      ]
    },
    {
      "cell_type": "markdown",
      "source": [
        "(d) Find the most frequent value and their indice(s) in the following arrays:\n",
        "\n",
        "i. x = np.array([1,2,3,4,5,1,2,1,1,1])\n",
        "\n",
        "ii. y = np.array([1, 1, 1, 2, 3, 4, 2, 4, 3, 3, ])"
      ],
      "metadata": {
        "id": "IuEjXaMH642B"
      }
    },
    {
      "cell_type": "code",
      "source": [
        "x = np.array([1,2,3,4,5,1,2,1,1,1]) \n",
        "y = np.array([1, 1, 1, 2, 3, 4, 2, 4, 3, 3, ])\n",
        "print(f\"most frequent value in x is --> {np.bincount(x).argmax()} and its indexes are --> {np.where(x == np.bincount(x).argmax())}\")\n",
        "print(f\"most frequent value in x is --> {np.bincount(y).argmax()} and its indexes are --> {np.where(x == np.bincount(y).argmax())}\")\n"
      ],
      "metadata": {
        "colab": {
          "base_uri": "https://localhost:8080/"
        },
        "id": "H2e5s5NY3psI",
        "outputId": "1a8a6112-34ee-4508-edcc-26f3ce631dd3"
      },
      "execution_count": null,
      "outputs": [
        {
          "output_type": "stream",
          "name": "stdout",
          "text": [
            "most frequent value in x is --> 1 and its indexes are --> (array([0, 5, 7, 8, 9]),)\n",
            "most frequent value in x is --> 1 and its indexes are --> (array([0, 5, 7, 8, 9]),)\n"
          ]
        }
      ]
    },
    {
      "cell_type": "markdown",
      "source": [
        "(e) For the array gfg = np.matrix('[4, 1, 9; 12, 3, 1; 4, 5, 6]'), find\n",
        "\n",
        "i. Sum of all elements\n",
        "\n",
        "ii. Sum of all elements row-wise\n",
        "\n",
        "iii. Sum of all elements column-wise \n"
      ],
      "metadata": {
        "id": "T3yWcb7v77zY"
      }
    },
    {
      "cell_type": "code",
      "source": [
        "gfg = np.matrix('[4, 1, 9; 12, 3, 1; 4, 5, 6]')\n",
        "print(f\"Sum of all elements in gfg --> {np.sum(gfg)}\")\n",
        "print(f\"Sum of all elements row-wise in gfg --> {gfg.sum(axis=0)}\")\n",
        "print(f\"Sum of all elements row-wise in gfg --> {gfg.sum(axis=1)}\")"
      ],
      "metadata": {
        "colab": {
          "base_uri": "https://localhost:8080/"
        },
        "id": "CjqFDpic4TWu",
        "outputId": "104c2f8f-38a9-4398-f31f-133dc039e23f"
      },
      "execution_count": null,
      "outputs": [
        {
          "output_type": "stream",
          "name": "stdout",
          "text": [
            "Sum of all elements in gfg --> 45\n",
            "Sum of all elements row-wise in gfg --> [[20  9 16]]\n",
            "Sum of all elements row-wise in gfg --> [[14]\n",
            " [16]\n",
            " [15]]\n"
          ]
        }
      ]
    },
    {
      "cell_type": "markdown",
      "source": [
        "(f) For the matrix: n_array = np.array([[55, 25, 15],[30, 44, 2],[11, 45, 77]]), find\n",
        "\n",
        "i. Sum of diagonal elements\n",
        "\n",
        "ii. Eigen values of matrix\n",
        "\n",
        "iii. Eigen vectors of matrix\n",
        "\n",
        "iv. Inverse of matrix\n",
        "\n",
        "v. Determinant of matrix "
      ],
      "metadata": {
        "id": "DiBLXiqy8vaH"
      }
    },
    {
      "cell_type": "code",
      "source": [
        " from numpy import linalg as LA\n",
        " n_array = np.array([[55, 25, 15],[30, 44, 2],[11, 45, 77]])\n",
        " print(f\"Sum of diagonal elements in n_array --> {np.trace(n_array)}\")\n",
        " w, v = LA.eig(n_array)\n",
        " print(f\"Eigen values of matrix --> {w}\")\n",
        " print(f\"Eigen vectors of matrix \\n {v}\")\n",
        " print(f\"Inverse of matrix \\n {LA.inv(n_array)}\")\n",
        " print(f\"Determinant of matrix --> {LA.det(n_array)}\")\n"
      ],
      "metadata": {
        "colab": {
          "base_uri": "https://localhost:8080/"
        },
        "id": "l3fGpiV28rFn",
        "outputId": "3f586fd2-6fd0-4d66-dc61-953d8418ff0b"
      },
      "execution_count": null,
      "outputs": [
        {
          "output_type": "stream",
          "name": "stdout",
          "text": [
            "Sum of diagonal elements in n_array --> 176\n",
            "Eigen values of matrix --> [98.16835147 28.097044   49.73460452]\n",
            "Eigen vectors of matrix \n",
            " [[ 0.4574917   0.34637121 -0.15017693]\n",
            " [ 0.28447814 -0.72784061 -0.4852124 ]\n",
            " [ 0.84248058  0.59184038  0.8614034 ]]\n",
            "Inverse of matrix \n",
            " [[ 0.02404141 -0.00911212 -0.00444671]\n",
            " [-0.01667882  0.02966905  0.0024785 ]\n",
            " [ 0.00631287 -0.01603732  0.01217379]]\n",
            "Determinant of matrix --> 137180.0000000001\n"
          ]
        }
      ]
    },
    {
      "cell_type": "markdown",
      "source": [
        "(g) Multiply the following matrices and also find covariance between matrices using NumPy: \n",
        "\n",
        "i. p = [[1, 2], [2, 3]]\n",
        "\n",
        "q = [[4, 5], [6, 7]]\n",
        "\n",
        "ii. p = [[1, 2], [2, 3], [4, 5]]\n",
        "\n",
        "q = [[4, 5, 1], [6, 7, 2]]\n"
      ],
      "metadata": {
        "id": "OEZ2fO7uKn8c"
      }
    },
    {
      "cell_type": "code",
      "source": [
        "from numpy import cov\n",
        "p = [[1, 2], [2, 3]]\n",
        "q = [[4, 5], [6, 7]]\n",
        "print(f\"Multiplication of p and q \\n {np.dot(p,q)} \\n covariance between matirces \\n {cov(p,q)}\")"
      ],
      "metadata": {
        "id": "PrCjgHBD882o",
        "colab": {
          "base_uri": "https://localhost:8080/"
        },
        "outputId": "df2fc984-c72c-482c-c55a-1fef06a4d52a"
      },
      "execution_count": null,
      "outputs": [
        {
          "output_type": "stream",
          "name": "stdout",
          "text": [
            "Multiplication of p and q \n",
            " [[16 19]\n",
            " [26 31]] \n",
            " covariance between matirces \n",
            " [[0.5 0.5 0.5 0.5]\n",
            " [0.5 0.5 0.5 0.5]\n",
            " [0.5 0.5 0.5 0.5]\n",
            " [0.5 0.5 0.5 0.5]]\n"
          ]
        }
      ]
    },
    {
      "cell_type": "code",
      "source": [
        "p = [[1, 2], [2, 3], [4, 5]]\n",
        "q = [[4, 5, 1], [6, 7, 2]]\n",
        "try :\n",
        "  print(f\"Multiplication of p and q \\n {np.dot(p,q)} \\n covariance between matirces \\n {cov(p,q)}\")\n",
        "except:\n",
        "  print(\"Multiplication not posssible (All the input array dimensions for the concatenation axis must match exactly)\")"
      ],
      "metadata": {
        "colab": {
          "base_uri": "https://localhost:8080/"
        },
        "id": "7sDBlmwaMkT8",
        "outputId": "62eb0e8f-6559-4be2-c082-fc88e62e03c7"
      },
      "execution_count": null,
      "outputs": [
        {
          "output_type": "stream",
          "name": "stdout",
          "text": [
            "Multiplication not posssible (All the input array dimensions for the concatenation axis must match exactly)\n"
          ]
        }
      ]
    },
    {
      "cell_type": "markdown",
      "source": [
        "(h) For the matrices: x = np.array([[2, 3, 4], [3, 2, 9]]);\n",
        " y = np.array([[1, 5, 0], [5, 10, 3]]),\n",
        "  \n",
        "find inner, outer and cartesian product?"
      ],
      "metadata": {
        "id": "Wy433N46NK9D"
      }
    },
    {
      "cell_type": "code",
      "source": [
        "x = np.array([[2, 3, 4], [3, 2, 9]])\n",
        "y = np.array([[1, 5, 0], [5, 10, 3]])\n",
        "print(f\"Inner product of x and y \\n {np.inner(x,y)}\")\n",
        "print(f\"Outer product of x and y \\n {np.outer(x,y)}\")\n",
        "result = (np.array(np.meshgrid(x, y)).T.reshape(-1,2))\n",
        "print(f\"Cartesian product of x and y \\n {result}\")  "
      ],
      "metadata": {
        "colab": {
          "base_uri": "https://localhost:8080/"
        },
        "id": "ihd4ohiVM8n4",
        "outputId": "de1203fe-235d-4315-fc41-18b0036d5ee8"
      },
      "execution_count": null,
      "outputs": [
        {
          "output_type": "stream",
          "name": "stdout",
          "text": [
            "Inner product of x and y \n",
            " [[17 52]\n",
            " [13 62]]\n",
            "Outer product of x and y \n",
            " [[ 2 10  0 10 20  6]\n",
            " [ 3 15  0 15 30  9]\n",
            " [ 4 20  0 20 40 12]\n",
            " [ 3 15  0 15 30  9]\n",
            " [ 2 10  0 10 20  6]\n",
            " [ 9 45  0 45 90 27]]\n",
            "Cartesian product of x and y \n",
            " [[ 2  1]\n",
            " [ 2  5]\n",
            " [ 2  0]\n",
            " [ 2  5]\n",
            " [ 2 10]\n",
            " [ 2  3]\n",
            " [ 3  1]\n",
            " [ 3  5]\n",
            " [ 3  0]\n",
            " [ 3  5]\n",
            " [ 3 10]\n",
            " [ 3  3]\n",
            " [ 4  1]\n",
            " [ 4  5]\n",
            " [ 4  0]\n",
            " [ 4  5]\n",
            " [ 4 10]\n",
            " [ 4  3]\n",
            " [ 3  1]\n",
            " [ 3  5]\n",
            " [ 3  0]\n",
            " [ 3  5]\n",
            " [ 3 10]\n",
            " [ 3  3]\n",
            " [ 2  1]\n",
            " [ 2  5]\n",
            " [ 2  0]\n",
            " [ 2  5]\n",
            " [ 2 10]\n",
            " [ 2  3]\n",
            " [ 9  1]\n",
            " [ 9  5]\n",
            " [ 9  0]\n",
            " [ 9  5]\n",
            " [ 9 10]\n",
            " [ 9  3]]\n"
          ]
        }
      ]
    },
    {
      "cell_type": "markdown",
      "source": [
        "Q2: Based on NumPy Mathematics and Statistics \n"
      ],
      "metadata": {
        "id": "qxHpmRrgOm7b"
      }
    },
    {
      "cell_type": "markdown",
      "source": [
        "(a) For the array: array = np.array([[1, -2, 3],[-4, 5, -6]])\n",
        "\n",
        "i. Find element-wise absolute value\n",
        "\n"
      ],
      "metadata": {
        "id": "64d-RYPwOp7O"
      }
    },
    {
      "cell_type": "code",
      "source": [
        "array = np.array([[1, -2, 3],[-4, 5, -6]])\n",
        "array1=array.flatten()\n",
        "print(f\"Element wise absolute value is:{np.absolute(array)}\")"
      ],
      "metadata": {
        "colab": {
          "base_uri": "https://localhost:8080/"
        },
        "id": "7592sL8YgS7t",
        "outputId": "ec08755f-35b4-4847-f836-2ab643518dcd"
      },
      "execution_count": null,
      "outputs": [
        {
          "output_type": "stream",
          "name": "stdout",
          "text": [
            "Element wise absolute value is:[[1 2 3]\n",
            " [4 5 6]]\n"
          ]
        }
      ]
    },
    {
      "cell_type": "markdown",
      "source": [
        "ii. Find the 25th, 50th, and 75th percentile of flattened array, for each column, for each \n",
        "row. "
      ],
      "metadata": {
        "id": "nVTH_qkigN1f"
      }
    },
    {
      "cell_type": "code",
      "source": [
        "# Percentile of the flattened array\n",
        "print(\"\\n50th Percentile of arr, axis = 0 : \",np.percentile(array1, 50))\n",
        "print(\"\\n25th Percentile of arr, axis = 0 : \",np.percentile(array1, 25))\n",
        "print(\"\\n75th Percentile of arr, axis = 0 : \",np.percentile(array1, 75))\n",
        "# Percentile along the axis = 0\n",
        "print(\"\\n50th Percentile of arr, axis = 0 : \",np.percentile(array, 50, axis =0))\n",
        "print(\"\\n25th Percentile of arr, axis = 0 : \",np.percentile(array, 25, axis =0))\n",
        "print(\"\\n75th Percentile of arr, axis = 0 : \",np.percentile(array, 75, axis =0))\n",
        "# Percentile along the axis = 1(row wise)\n",
        "print(\"\\n50th Percentile of arr, axis = 1 : \",np.percentile(array, 50, axis =1))\n",
        "print(\"\\n25th Percentile of arr, axis = 1 : \",np.percentile(array, 25, axis =1))\n",
        "print(\"\\n75th Percentile of arr, axis = 1 : \",np.percentile(array, 75, axis =1))"
      ],
      "metadata": {
        "colab": {
          "base_uri": "https://localhost:8080/"
        },
        "id": "DGh1bamZgMS1",
        "outputId": "70a8c1b2-9884-4d3a-af37-42fab73c5322"
      },
      "execution_count": null,
      "outputs": [
        {
          "output_type": "stream",
          "name": "stdout",
          "text": [
            "\n",
            "50th Percentile of arr, axis = 0 :  -0.5\n",
            "\n",
            "25th Percentile of arr, axis = 0 :  -3.5\n",
            "\n",
            "75th Percentile of arr, axis = 0 :  2.5\n",
            "\n",
            "50th Percentile of arr, axis = 0 :  [-1.5  1.5 -1.5]\n",
            "\n",
            "25th Percentile of arr, axis = 0 :  [-2.75 -0.25 -3.75]\n",
            "\n",
            "75th Percentile of arr, axis = 0 :  [-0.25  3.25  0.75]\n",
            "\n",
            "50th Percentile of arr, axis = 1 :  [ 1. -4.]\n",
            "\n",
            "25th Percentile of arr, axis = 1 :  [-0.5 -5. ]\n",
            "\n",
            "75th Percentile of arr, axis = 1 :  [2.  0.5]\n"
          ]
        }
      ]
    },
    {
      "cell_type": "markdown",
      "source": [
        "iii. Mean, Median and Standard Deviation of flattened array, of each column, and \n",
        "each row"
      ],
      "metadata": {
        "id": "OWodV6PVgQjX"
      }
    },
    {
      "cell_type": "code",
      "source": [
        "#calculate standard deviation\n",
        "print(f\"standard deviation along x axis {np.std(array, axis=1)}\")\n",
        "print(\"-----------------\")\n",
        "print(f\"standard deviation along y axis {np.std(array, axis=0)}\")\n",
        "#to calculate mean\n",
        "print(np.mean(array, axis=0))\n",
        "print(\"-----------------------\")\n",
        "print(np.mean(array, axis=1))\n",
        "#to calculate median\n",
        "print(np.median(array, axis=0))\n",
        "print(\"-----------------------\")\n",
        "print(np.median(array, axis=1))\n"
      ],
      "metadata": {
        "colab": {
          "base_uri": "https://localhost:8080/"
        },
        "id": "jOu7vd4XOvE6",
        "outputId": "e7bff284-dba3-496a-8fcb-d29881d13c77"
      },
      "execution_count": null,
      "outputs": [
        {
          "output_type": "stream",
          "name": "stdout",
          "text": [
            "standard deviation along x axis [2.05480467 4.78423336]\n",
            "-----------------\n",
            "standard deviation along y axis [2.5 3.5 4.5]\n",
            "[-1.5  1.5 -1.5]\n",
            "-----------------------\n",
            "[ 0.66666667 -1.66666667]\n",
            "[-1.5  1.5 -1.5]\n",
            "-----------------------\n",
            "[ 1. -4.]\n"
          ]
        }
      ]
    },
    {
      "cell_type": "markdown",
      "source": [
        "(b) For the array: a = np.array([-1.8, -1.6, -0.5, 0.5,1.6, 1.8, 3.0]). Find floor, ceiling \n",
        "and truncated value, rounded values\n"
      ],
      "metadata": {
        "id": "kwYoYV0jVboY"
      }
    },
    {
      "cell_type": "code",
      "source": [
        "a = np.array([-1.8, -1.6, -0.5, 0.5,1.6, 1.8, 3.0])\n",
        "print(f\"Floor values : \\n {np.floor(a)}\")\n",
        "print(f\"Ceil values : \\n {np.ceil(a)}\")\n",
        "print(f\"Trucated values : \\n {np.trunc(a)}\")\n",
        "print(f\"Rounded values : \\n {np.round(a)}\")"
      ],
      "metadata": {
        "colab": {
          "base_uri": "https://localhost:8080/"
        },
        "id": "HzHQS5wRVMNT",
        "outputId": "6c2fd817-c380-4ae7-9cbb-88da71a7b083"
      },
      "execution_count": null,
      "outputs": [
        {
          "output_type": "stream",
          "name": "stdout",
          "text": [
            "Floor values : \n",
            " [-2. -2. -1.  0.  1.  1.  3.]\n",
            "Ceil values : \n",
            " [-1. -1. -0.  1.  2.  2.  3.]\n",
            "Trucated values : \n",
            " [-1. -1. -0.  0.  1.  1.  3.]\n",
            "Rounded values : \n",
            " [-2. -2. -0.  0.  2.  2.  3.]\n"
          ]
        }
      ]
    },
    {
      "cell_type": "markdown",
      "source": [
        "Q3: Based on Searching and Sorting \n",
        "\n",
        "(a) For the array: array = np.array([10, 52, 62, 16, 16, 54, 453]), find\n",
        "\n",
        "i. Sorted array \n",
        "\n",
        "ii. Indices of sorted array \n",
        "\n",
        "iii. 4 smallest elements \n",
        "\n",
        "iv. 5 largest elements \n"
      ],
      "metadata": {
        "id": "SnvXiR6jWTEg"
      }
    },
    {
      "cell_type": "code",
      "source": [
        "array = np.array([10, 52, 62, 16, 16, 54, 453])\n",
        "print(f\"Sorted array : \\n {np.sort(array)}\")\n",
        "print(f\"Indices of sorted array : \\n {np.argsort(array)}\")\n",
        "arr1 = np.sort(array)\n",
        "print(f\"4 smallest elements : /n {arr1[:4]}\")\n",
        "print(f\"5 largest elements : /n {arr1[-5:]}\")"
      ],
      "metadata": {
        "colab": {
          "base_uri": "https://localhost:8080/"
        },
        "id": "EIr0Gg9NWSZJ",
        "outputId": "643e42da-34f3-4b48-a370-33659a0f0e44"
      },
      "execution_count": null,
      "outputs": [
        {
          "output_type": "stream",
          "name": "stdout",
          "text": [
            "Sorted array : \n",
            " [ 10  16  16  52  54  62 453]\n",
            "Indices of sorted array : \n",
            " [0 3 4 1 5 2 6]\n",
            "4 smallest elements : /n [10 16 16 52]\n",
            "5 largest elements : /n [ 16  52  54  62 453]\n"
          ]
        }
      ]
    },
    {
      "cell_type": "markdown",
      "source": [
        "(b) For the array: array = np.array([1.0, 1.2, 2.2, 2.0, 3.0, 2.0]), find \n",
        "\n",
        "i. Integer elements only \n",
        "\n",
        "ii. Float elements only \n"
      ],
      "metadata": {
        "id": "lJeLdcQjYBYq"
      }
    },
    {
      "cell_type": "code",
      "source": [
        "array = np.array([1.0, 1.2, 2.2, 2.0, 3.0, 2.0])\n",
        "\n",
        "\n",
        "for num in array:\n",
        "    if (type(num) == np.int64):\n",
        "        print(num, \"is an integer\")\n",
        "\n",
        "for num in array:\n",
        "  if (type(num) == np.float64):\n",
        "    print(num, \"is an float\")\n",
        "\n"
      ],
      "metadata": {
        "colab": {
          "base_uri": "https://localhost:8080/"
        },
        "id": "4uJYwcplXtzR",
        "outputId": "99f3b521-467e-4c5a-c1c8-2108821575f2"
      },
      "execution_count": 40,
      "outputs": [
        {
          "output_type": "stream",
          "name": "stdout",
          "text": [
            "1.0 is an float\n",
            "1.2 is an float\n",
            "2.2 is an float\n",
            "2.0 is an float\n",
            "3.0 is an float\n",
            "2.0 is an float\n"
          ]
        }
      ]
    },
    {
      "cell_type": "markdown",
      "source": [
        "Q4: \n",
        "(a) Write a function named img_to_array(path) that reads an image from a specified path and \n",
        "save it as text file on local machine? (Note: use separate cases for RGB and Grey Scale \n",
        "images) \n",
        "\n",
        "Link for images : https://drive.google.com/drive/u/1/folders/1kYWbpS15CKAPFUE68BNEQUprgYosVdmF\n"
      ],
      "metadata": {
        "id": "7shG6_ixbrnA"
      }
    },
    {
      "cell_type": "code",
      "source": [
        "!pip install Pillow\n",
        "from PIL import Image"
      ],
      "metadata": {
        "colab": {
          "base_uri": "https://localhost:8080/"
        },
        "id": "50oXMveXbrX0",
        "outputId": "c23dfb61-cbbc-442b-ab1a-1e5627a305f9"
      },
      "execution_count": null,
      "outputs": [
        {
          "output_type": "stream",
          "name": "stdout",
          "text": [
            "Looking in indexes: https://pypi.org/simple, https://us-python.pkg.dev/colab-wheels/public/simple/\n",
            "Requirement already satisfied: Pillow in /usr/local/lib/python3.7/dist-packages (7.1.2)\n"
          ]
        }
      ]
    },
    {
      "cell_type": "markdown",
      "source": [
        "![OIP.jpg](data:image/jpeg;base64,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)"
      ],
      "metadata": {
        "id": "idtTz8p5hlHD"
      }
    },
    {
      "cell_type": "markdown",
      "source": [
        "![OIP (1).jpg](data:image/jpeg;base64,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)"
      ],
      "metadata": {
        "id": "IGbsg67yhsww"
      }
    },
    {
      "cell_type": "code",
      "source": [
        "def img_to_array(path):\n",
        "  image = Image.open(path)\n",
        "  data = np.asarray(image)\n",
        "  with open(\"file.txt\",\"w\") as file:\n",
        "    file.write(f\"{data}\")\n",
        "  print(\"Writing done..!\")\n",
        "\n",
        "print(\"Greay scale image\")\n",
        "img_to_array('/content/OIP.jpg')\n",
        "print(\"RGB image\")\n",
        "img_to_array('/content/OIP (1).jpg')"
      ],
      "metadata": {
        "colab": {
          "base_uri": "https://localhost:8080/"
        },
        "id": "Uzgsj29mdGf9",
        "outputId": "d446bd8d-e12f-49d4-f2a3-49ed8c0dae2a"
      },
      "execution_count": 19,
      "outputs": [
        {
          "output_type": "stream",
          "name": "stdout",
          "text": [
            "Greay scale image\n",
            "Writing done..!\n",
            "RGB image\n",
            "Writing done..!\n"
          ]
        }
      ]
    },
    {
      "cell_type": "markdown",
      "source": [
        "(b) Load the saved file into google colab?"
      ],
      "metadata": {
        "id": "LawNX3k_hdJt"
      }
    },
    {
      "cell_type": "code",
      "source": [
        "from google.colab import files\n",
        "files.download('/content/file.txt')"
      ],
      "metadata": {
        "id": "f9UgGcFMhc0B",
        "colab": {
          "base_uri": "https://localhost:8080/",
          "height": 17
        },
        "outputId": "5fa25feb-6648-40bf-d433-53014f3b4ed4"
      },
      "execution_count": 41,
      "outputs": [
        {
          "output_type": "display_data",
          "data": {
            "text/plain": [
              "<IPython.core.display.Javascript object>"
            ],
            "application/javascript": [
              "\n",
              "    async function download(id, filename, size) {\n",
              "      if (!google.colab.kernel.accessAllowed) {\n",
              "        return;\n",
              "      }\n",
              "      const div = document.createElement('div');\n",
              "      const label = document.createElement('label');\n",
              "      label.textContent = `Downloading \"${filename}\": `;\n",
              "      div.appendChild(label);\n",
              "      const progress = document.createElement('progress');\n",
              "      progress.max = size;\n",
              "      div.appendChild(progress);\n",
              "      document.body.appendChild(div);\n",
              "\n",
              "      const buffers = [];\n",
              "      let downloaded = 0;\n",
              "\n",
              "      const channel = await google.colab.kernel.comms.open(id);\n",
              "      // Send a message to notify the kernel that we're ready.\n",
              "      channel.send({})\n",
              "\n",
              "      for await (const message of channel.messages) {\n",
              "        // Send a message to notify the kernel that we're ready.\n",
              "        channel.send({})\n",
              "        if (message.buffers) {\n",
              "          for (const buffer of message.buffers) {\n",
              "            buffers.push(buffer);\n",
              "            downloaded += buffer.byteLength;\n",
              "            progress.value = downloaded;\n",
              "          }\n",
              "        }\n",
              "      }\n",
              "      const blob = new Blob(buffers, {type: 'application/binary'});\n",
              "      const a = document.createElement('a');\n",
              "      a.href = window.URL.createObjectURL(blob);\n",
              "      a.download = filename;\n",
              "      div.appendChild(a);\n",
              "      a.click();\n",
              "      div.remove();\n",
              "    }\n",
              "  "
            ]
          },
          "metadata": {}
        },
        {
          "output_type": "display_data",
          "data": {
            "text/plain": [
              "<IPython.core.display.Javascript object>"
            ],
            "application/javascript": [
              "download(\"download_8f598930-5e20-4fa1-9745-d54214e70093\", \"file.txt\", 629)"
            ]
          },
          "metadata": {}
        }
      ]
    }
  ]
}