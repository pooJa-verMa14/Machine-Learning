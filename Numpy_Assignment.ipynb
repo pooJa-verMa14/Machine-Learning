{
  "nbformat": 4,
  "nbformat_minor": 0,
  "metadata": {
    "colab": {
      "name": "Numpy_Assignment.ipynb",
      "provenance": [],
      "authorship_tag": "ABX9TyMSUgZKf73zktvK4vSztMMk",
      "include_colab_link": true
    },
    "kernelspec": {
      "name": "python3",
      "display_name": "Python 3"
    },
    "language_info": {
      "name": "python"
    }
  },
  "cells": [
    {
      "cell_type": "markdown",
      "metadata": {
        "id": "view-in-github",
        "colab_type": "text"
      },
      "source": [
        "<a href=\"https://colab.research.google.com/github/pooJa-verMa14/Machine-Learning/blob/main/Numpy_Assignment.ipynb\" target=\"_parent\"><img src=\"https://colab.research.google.com/assets/colab-badge.svg\" alt=\"Open In Colab\"/></a>"
      ]
    },
    {
      "cell_type": "markdown",
      "source": [
        "\n",
        "**Assignment-1\n",
        "Based on NumPy**\n",
        "\n",
        "\n"
      ],
      "metadata": {
        "id": "2eexF3OA4cpg"
      }
    },
    {
      "cell_type": "code",
      "execution_count": 2,
      "metadata": {
        "id": "wTftbMfiZofc"
      },
      "outputs": [],
      "source": [
        "import numpy as np  # linear algebra library used to handle matrices"
      ]
    },
    {
      "cell_type": "markdown",
      "source": [
        "Q1: Questions on Basic NumPy Array"
      ],
      "metadata": {
        "id": "N_aJ47f34os4"
      }
    },
    {
      "cell_type": "markdown",
      "source": [
        "(a) Reverse the NumPy array: arr = np.array([1, 2, 3, 6, 4, 5]) \n"
      ],
      "metadata": {
        "id": "hY6X-Wyc4snn"
      }
    },
    {
      "cell_type": "code",
      "source": [
        "arr = np.array([1,2,3,6,4,5]) #initializing the array\n",
        "print(f\"Initially array is --> {arr}\")\n",
        "print(f\"After reversing array is --> {np.flip(arr) }\")   #using flip fuction to reverse the elements"
      ],
      "metadata": {
        "colab": {
          "base_uri": "https://localhost:8080/"
        },
        "id": "a9b2Zjnc09Hx",
        "outputId": "cf5cde55-7f7b-4a79-a8e6-4328ee07e3e3"
      },
      "execution_count": 3,
      "outputs": [
        {
          "output_type": "stream",
          "name": "stdout",
          "text": [
            "Initially array is --> [1 2 3 6 4 5]\n",
            "After reversing array is --> [5 4 6 3 2 1]\n"
          ]
        }
      ]
    },
    {
      "cell_type": "markdown",
      "source": [
        "(b) Flatten the NumPy arr: array1 = np.array([[1, 2, 3], [2, 4, 5], [1, 2, 3]]) using any two\n",
        "NumPy in-built methods \n"
      ],
      "metadata": {
        "id": "P6YgmBow5ZEP"
      }
    },
    {
      "cell_type": "code",
      "source": [
        "arr1 = np.array([[1,2,3],[2,4,5],[1,2,3]]) #initializing the array\n",
        "print(f\"Initially array is --> {arr1}\")\n",
        "print(f\"After flatten array row wise is --> {arr1.flatten()}\")  # it will flatten the array row wise\n",
        "print(f\"After flatten array column wise is --> {arr1.flatten('F')}\")  # it will flatten the array column wise"
      ],
      "metadata": {
        "colab": {
          "base_uri": "https://localhost:8080/"
        },
        "id": "GZE782V61VlW",
        "outputId": "bd414a64-7c55-4967-83d8-1b2233d97dea"
      },
      "execution_count": 4,
      "outputs": [
        {
          "output_type": "stream",
          "name": "stdout",
          "text": [
            "Initially array is --> [[1 2 3]\n",
            " [2 4 5]\n",
            " [1 2 3]]\n",
            "After flatten array row wise is --> [1 2 3 2 4 5 1 2 3]\n",
            "After flatten array column wise is --> [1 2 1 2 4 2 3 5 3]\n"
          ]
        }
      ]
    },
    {
      "cell_type": "markdown",
      "source": [
        "(c) Compare the following numpy arrays:\n",
        "\n",
        "arr1 = np.array([[1, 2], [3, 4]])\n",
        "\n",
        "arr2 = np.array([[1, 2], [3, 4]])"
      ],
      "metadata": {
        "id": "_pnF1z5e6DH3"
      }
    },
    {
      "cell_type": "code",
      "source": [
        "arr1=np.array([[1,2],[3,4]]) \n",
        "arr2 = np.array([[1, 2], [3, 4]])\n",
        "comparison = arr1 == arr2\n",
        "equal_arrays = comparison.all()\n",
        "print(equal_arrays)\n"
      ],
      "metadata": {
        "colab": {
          "base_uri": "https://localhost:8080/"
        },
        "id": "Db6EH6Gt2pc3",
        "outputId": "2da53dd8-86da-4451-d0ec-afd164e854ea"
      },
      "execution_count": 5,
      "outputs": [
        {
          "output_type": "stream",
          "name": "stdout",
          "text": [
            "True\n"
          ]
        }
      ]
    },
    {
      "cell_type": "markdown",
      "source": [
        "(d) Find the most frequent value and their indice(s) in the following arrays:\n",
        "\n",
        "i. x = np.array([1,2,3,4,5,1,2,1,1,1])\n",
        "\n",
        "ii. y = np.array([1, 1, 1, 2, 3, 4, 2, 4, 3, 3, ])"
      ],
      "metadata": {
        "id": "IuEjXaMH642B"
      }
    },
    {
      "cell_type": "code",
      "source": [
        "x = np.array([1,2,3,4,5,1,2,1,1,1]) \n",
        "y = np.array([1, 1, 1, 2, 3, 4, 2, 4, 3, 3, ])\n",
        "print(f\"most frequent value in x is --> {np.bincount(x).argmax()} and its indexes are --> {np.where(x == np.bincount(x).argmax())}\")\n",
        "print(f\"most frequent value in x is --> {np.bincount(y).argmax()} and its indexes are --> {np.where(x == np.bincount(y).argmax())}\")\n"
      ],
      "metadata": {
        "colab": {
          "base_uri": "https://localhost:8080/"
        },
        "id": "H2e5s5NY3psI",
        "outputId": "79866fff-acdb-41d3-c642-7c7adecd444b"
      },
      "execution_count": 6,
      "outputs": [
        {
          "output_type": "stream",
          "name": "stdout",
          "text": [
            "most frequent value in x is --> 1 and its indexes are --> (array([0, 5, 7, 8, 9]),)\n",
            "most frequent value in x is --> 1 and its indexes are --> (array([0, 5, 7, 8, 9]),)\n"
          ]
        }
      ]
    },
    {
      "cell_type": "markdown",
      "source": [
        "(e) For the array gfg = np.matrix('[4, 1, 9; 12, 3, 1; 4, 5, 6]'), find\n",
        "\n",
        "i. Sum of all elements\n",
        "\n",
        "ii. Sum of all elements row-wise\n",
        "\n",
        "iii. Sum of all elements column-wise \n"
      ],
      "metadata": {
        "id": "T3yWcb7v77zY"
      }
    },
    {
      "cell_type": "code",
      "source": [
        "gfg = np.matrix('[4, 1, 9; 12, 3, 1; 4, 5, 6]')\n",
        "print(f\"Sum of all elements in gfg --> {np.sum(gfg)}\")\n",
        "print(f\"Sum of all elements row-wise in gfg --> {gfg.sum(axis=0)}\")\n",
        "print(f\"Sum of all elements row-wise in gfg --> {gfg.sum(axis=1)}\")"
      ],
      "metadata": {
        "colab": {
          "base_uri": "https://localhost:8080/"
        },
        "id": "CjqFDpic4TWu",
        "outputId": "350d19f4-b436-45ff-e77c-7db48b9a3830"
      },
      "execution_count": 7,
      "outputs": [
        {
          "output_type": "stream",
          "name": "stdout",
          "text": [
            "Sum of all elements in gfg --> 45\n",
            "Sum of all elements row-wise in gfg --> [[20  9 16]]\n",
            "Sum of all elements row-wise in gfg --> [[14]\n",
            " [16]\n",
            " [15]]\n"
          ]
        }
      ]
    },
    {
      "cell_type": "markdown",
      "source": [
        "(f) For the matrix: n_array = np.array([[55, 25, 15],[30, 44, 2],[11, 45, 77]]), find\n",
        "\n",
        "i. Sum of diagonal elements\n",
        "\n",
        "ii. Eigen values of matrix\n",
        "\n",
        "iii. Eigen vectors of matrix\n",
        "\n",
        "iv. Inverse of matrix\n",
        "\n",
        "v. Determinant of matrix "
      ],
      "metadata": {
        "id": "DiBLXiqy8vaH"
      }
    },
    {
      "cell_type": "code",
      "source": [
        " from numpy import linalg as LA\n",
        " n_array = np.array([[55, 25, 15],[30, 44, 2],[11, 45, 77]])\n",
        " print(f\"Sum of diagonal elements in n_array --> {np.trace(n_array)}\")\n",
        " w, v = LA.eig(n_array)\n",
        " print(f\"Eigen values of matrix --> {w}\")\n",
        " print(f\"Eigen vectors of matrix \\n {v}\")\n",
        " print(f\"Inverse of matrix \\n {LA.inv(n_array)}\")\n",
        " print(f\"Determinant of matrix --> {LA.det(n_array)}\")\n"
      ],
      "metadata": {
        "colab": {
          "base_uri": "https://localhost:8080/"
        },
        "id": "l3fGpiV28rFn",
        "outputId": "887f39cd-8d9f-4354-c2b2-f5b44cb8e991"
      },
      "execution_count": 25,
      "outputs": [
        {
          "output_type": "stream",
          "name": "stdout",
          "text": [
            "Sum of diagonal elements in n_array --> 176\n",
            "Eigen values of matrix --> [98.16835147 28.097044   49.73460452]\n",
            "Eigen vectors of matrix \n",
            " [[ 0.4574917   0.34637121 -0.15017693]\n",
            " [ 0.28447814 -0.72784061 -0.4852124 ]\n",
            " [ 0.84248058  0.59184038  0.8614034 ]]\n",
            "Inverse of matrix \n",
            " [[ 0.02404141 -0.00911212 -0.00444671]\n",
            " [-0.01667882  0.02966905  0.0024785 ]\n",
            " [ 0.00631287 -0.01603732  0.01217379]]\n",
            "Determinant of matrix --> 137180.0000000001\n"
          ]
        }
      ]
    },
    {
      "cell_type": "markdown",
      "source": [
        "(g) Multiply the following matrices and also find covariance between matrices using NumPy: \n",
        "\n",
        "i. p = [[1, 2], [2, 3]]\n",
        "\n",
        "q = [[4, 5], [6, 7]]\n",
        "\n",
        "ii. p = [[1, 2], [2, 3], [4, 5]]\n",
        "\n",
        "q = [[4, 5, 1], [6, 7, 2]]\n"
      ],
      "metadata": {
        "id": "OEZ2fO7uKn8c"
      }
    },
    {
      "cell_type": "code",
      "source": [
        "from numpy import cov\n",
        "p = [[1, 2], [2, 3]]\n",
        "q = [[4, 5], [6, 7]]\n",
        "print(f\"Multiplication of p and q \\n {np.dot(p,q)} \\n covariance between matirces \\n {cov(p,q)}\")"
      ],
      "metadata": {
        "id": "PrCjgHBD882o",
        "colab": {
          "base_uri": "https://localhost:8080/"
        },
        "outputId": "fb02e102-f4d3-4f4e-e070-ee0cd8d4e674"
      },
      "execution_count": 16,
      "outputs": [
        {
          "output_type": "stream",
          "name": "stdout",
          "text": [
            "Multiplication of p and q \n",
            " [[16 19]\n",
            " [26 31]] \n",
            " covariance between matirces \n",
            " [[0.5 0.5 0.5 0.5]\n",
            " [0.5 0.5 0.5 0.5]\n",
            " [0.5 0.5 0.5 0.5]\n",
            " [0.5 0.5 0.5 0.5]]\n"
          ]
        }
      ]
    },
    {
      "cell_type": "code",
      "source": [
        "p = [[1, 2], [2, 3], [4, 5]]\n",
        "q = [[4, 5, 1], [6, 7, 2]]\n",
        "try :\n",
        "  print(f\"Multiplication of p and q \\n {np.dot(p,q)} \\n covariance between matirces \\n {cov(p,q)}\")\n",
        "except:\n",
        "  print(\"Multiplication not posssible (All the input array dimensions for the concatenation axis must match exactly)\")"
      ],
      "metadata": {
        "colab": {
          "base_uri": "https://localhost:8080/"
        },
        "id": "7sDBlmwaMkT8",
        "outputId": "293743f9-102b-4985-d23b-08564387b078"
      },
      "execution_count": 20,
      "outputs": [
        {
          "output_type": "stream",
          "name": "stdout",
          "text": [
            "Multiplication not posssible (All the input array dimensions for the concatenation axis must match exactly)\n"
          ]
        }
      ]
    },
    {
      "cell_type": "markdown",
      "source": [
        "(h) For the matrices: x = np.array([[2, 3, 4], [3, 2, 9]]);\n",
        " y = np.array([[1, 5, 0], [5, 10, 3]]),\n",
        "  \n",
        "find inner, outer and cartesian product?"
      ],
      "metadata": {
        "id": "Wy433N46NK9D"
      }
    },
    {
      "cell_type": "code",
      "source": [
        "x = np.array([[2, 3, 4], [3, 2, 9]])\n",
        "y = np.array([[1, 5, 0], [5, 10, 3]])\n",
        "print(f\"Inner product of x and y \\n {np.inner(x,y)}\")\n",
        "print(f\"Outer product of x and y \\n {np.outer(x,y)}\")\n",
        "print(f\"Cartesian product of x and y \\n {np.cross(x,y)}\")  "
      ],
      "metadata": {
        "colab": {
          "base_uri": "https://localhost:8080/"
        },
        "id": "ihd4ohiVM8n4",
        "outputId": "c52ea272-27a0-4d57-b0e2-f422ef091f0d"
      },
      "execution_count": 24,
      "outputs": [
        {
          "output_type": "stream",
          "name": "stdout",
          "text": [
            "Inner product of x and y \n",
            " [[17 52]\n",
            " [13 62]]\n",
            "Outer product of x and y \n",
            " [[ 2 10  0 10 20  6]\n",
            " [ 3 15  0 15 30  9]\n",
            " [ 4 20  0 20 40 12]\n",
            " [ 3 15  0 15 30  9]\n",
            " [ 2 10  0 10 20  6]\n",
            " [ 9 45  0 45 90 27]]\n",
            "Cartesian product of x and y \n",
            " [[-20   4   7]\n",
            " [-84  36  20]]\n"
          ]
        }
      ]
    },
    {
      "cell_type": "markdown",
      "source": [
        "Q2: Based on NumPy Mathematics and Statistics \n"
      ],
      "metadata": {
        "id": "qxHpmRrgOm7b"
      }
    },
    {
      "cell_type": "markdown",
      "source": [
        "(a) For the array: array = np.array([[1, -2, 3],[-4, 5, -6]])\n",
        "\n",
        "i. Find element-wise absolute value\n",
        "\n",
        "ii. Find the 25th, 50th, and 75th percentile of flattened array, for each column, for each \n",
        "row. \n",
        "\n",
        "iii. Mean, Median and Standard Deviation of flattened array, of each column, and \n",
        "each row"
      ],
      "metadata": {
        "id": "64d-RYPwOp7O"
      }
    },
    {
      "cell_type": "code",
      "source": [
        "array = np.array([[1, -2, 3],[-4, 5, -6]])\n",
        "print(f\"Element-wise absolute value of array is \\n {np.absolute(array)}\")\n",
        "print(f\"25th percentile of flattened array : {np.percentile(arr, 25)}\")\n",
        "print(f\"50th percentile of flattend array : {np.percentile(arr, 50)}\")\n",
        "print(f\"75th percentile of flattend array : {np.percentile(arr, 70)}\")\n",
        "print(f\"25th percentile for each column : {np.percentile(arr, 25, axis =0)}\")\n",
        "print(f\"50th percentile for each column : {np.percentile(arr, 50, axis =0)}\")\n",
        "print(f\"75th percentile for each column : {np.percentile(arr, 70, axis =0)}\")\n",
        "print(f\"25th percentile for each row : {np.percentile(arr, 25, axis =1)}\")\n",
        "print(f\"50th percentile for each row : {np.percentile(arr, 50, axis =1)}\")\n",
        "print(f\"75th percentile for each row : {np.percentile(arr, 70, axis =1)}\")\n"
      ],
      "metadata": {
        "colab": {
          "base_uri": "https://localhost:8080/",
          "height": 571
        },
        "id": "jOu7vd4XOvE6",
        "outputId": "bed7ef2f-c35a-49b0-b26c-f1fedf93e260"
      },
      "execution_count": 28,
      "outputs": [
        {
          "output_type": "stream",
          "name": "stdout",
          "text": [
            "Element-wise absolute value of array is \n",
            " [[1 2 3]\n",
            " [4 5 6]]\n",
            "25th percentile of flattened array : 2.25\n",
            "50th percentile of flattend array : 3.5\n",
            "75th percentile of flattend array : 4.5\n",
            "25th percentile for each column : 2.25\n",
            "50th percentile for each column : 3.5\n",
            "75th percentile for each column : 4.5\n"
          ]
        },
        {
          "output_type": "error",
          "ename": "AxisError",
          "evalue": "ignored",
          "traceback": [
            "\u001b[0;31m---------------------------------------------------------------------------\u001b[0m",
            "\u001b[0;31mAxisError\u001b[0m                                 Traceback (most recent call last)",
            "\u001b[0;32m<ipython-input-28-ca9295f4a575>\u001b[0m in \u001b[0;36m<module>\u001b[0;34m()\u001b[0m\n\u001b[1;32m      7\u001b[0m \u001b[0mprint\u001b[0m\u001b[0;34m(\u001b[0m\u001b[0;34mf\"50th percentile for each column : {np.percentile(arr, 50, axis =0)}\"\u001b[0m\u001b[0;34m)\u001b[0m\u001b[0;34m\u001b[0m\u001b[0;34m\u001b[0m\u001b[0m\n\u001b[1;32m      8\u001b[0m \u001b[0mprint\u001b[0m\u001b[0;34m(\u001b[0m\u001b[0;34mf\"75th percentile for each column : {np.percentile(arr, 70, axis =0)}\"\u001b[0m\u001b[0;34m)\u001b[0m\u001b[0;34m\u001b[0m\u001b[0;34m\u001b[0m\u001b[0m\n\u001b[0;32m----> 9\u001b[0;31m \u001b[0mprint\u001b[0m\u001b[0;34m(\u001b[0m\u001b[0;34mf\"25th percentile for each row : {np.percentile(arr, 25, axis =1)}\"\u001b[0m\u001b[0;34m)\u001b[0m\u001b[0;34m\u001b[0m\u001b[0;34m\u001b[0m\u001b[0m\n\u001b[0m\u001b[1;32m     10\u001b[0m \u001b[0mprint\u001b[0m\u001b[0;34m(\u001b[0m\u001b[0;34mf\"50th percentile for each row : {np.percentile(arr, 50, axis =1)}\"\u001b[0m\u001b[0;34m)\u001b[0m\u001b[0;34m\u001b[0m\u001b[0;34m\u001b[0m\u001b[0m\n\u001b[1;32m     11\u001b[0m \u001b[0mprint\u001b[0m\u001b[0;34m(\u001b[0m\u001b[0;34mf\"75th percentile for each row : {np.percentile(arr, 70, axis =1)}\"\u001b[0m\u001b[0;34m)\u001b[0m\u001b[0;34m\u001b[0m\u001b[0;34m\u001b[0m\u001b[0m\n",
            "\u001b[0;32m<__array_function__ internals>\u001b[0m in \u001b[0;36mpercentile\u001b[0;34m(*args, **kwargs)\u001b[0m\n",
            "\u001b[0;32m/usr/local/lib/python3.7/dist-packages/numpy/lib/function_base.py\u001b[0m in \u001b[0;36mpercentile\u001b[0;34m(a, q, axis, out, overwrite_input, interpolation, keepdims)\u001b[0m\n\u001b[1;32m   3866\u001b[0m         \u001b[0;32mraise\u001b[0m \u001b[0mValueError\u001b[0m\u001b[0;34m(\u001b[0m\u001b[0;34m\"Percentiles must be in the range [0, 100]\"\u001b[0m\u001b[0;34m)\u001b[0m\u001b[0;34m\u001b[0m\u001b[0;34m\u001b[0m\u001b[0m\n\u001b[1;32m   3867\u001b[0m     return _quantile_unchecked(\n\u001b[0;32m-> 3868\u001b[0;31m         a, q, axis, out, overwrite_input, interpolation, keepdims)\n\u001b[0m\u001b[1;32m   3869\u001b[0m \u001b[0;34m\u001b[0m\u001b[0m\n\u001b[1;32m   3870\u001b[0m \u001b[0;34m\u001b[0m\u001b[0m\n",
            "\u001b[0;32m/usr/local/lib/python3.7/dist-packages/numpy/lib/function_base.py\u001b[0m in \u001b[0;36m_quantile_unchecked\u001b[0;34m(a, q, axis, out, overwrite_input, interpolation, keepdims)\u001b[0m\n\u001b[1;32m   3986\u001b[0m     r, k = _ureduce(a, func=_quantile_ureduce_func, q=q, axis=axis, out=out,\n\u001b[1;32m   3987\u001b[0m                     \u001b[0moverwrite_input\u001b[0m\u001b[0;34m=\u001b[0m\u001b[0moverwrite_input\u001b[0m\u001b[0;34m,\u001b[0m\u001b[0;34m\u001b[0m\u001b[0;34m\u001b[0m\u001b[0m\n\u001b[0;32m-> 3988\u001b[0;31m                     interpolation=interpolation)\n\u001b[0m\u001b[1;32m   3989\u001b[0m     \u001b[0;32mif\u001b[0m \u001b[0mkeepdims\u001b[0m\u001b[0;34m:\u001b[0m\u001b[0;34m\u001b[0m\u001b[0;34m\u001b[0m\u001b[0m\n\u001b[1;32m   3990\u001b[0m         \u001b[0;32mreturn\u001b[0m \u001b[0mr\u001b[0m\u001b[0;34m.\u001b[0m\u001b[0mreshape\u001b[0m\u001b[0;34m(\u001b[0m\u001b[0mq\u001b[0m\u001b[0;34m.\u001b[0m\u001b[0mshape\u001b[0m \u001b[0;34m+\u001b[0m \u001b[0mk\u001b[0m\u001b[0;34m)\u001b[0m\u001b[0;34m\u001b[0m\u001b[0;34m\u001b[0m\u001b[0m\n",
            "\u001b[0;32m/usr/local/lib/python3.7/dist-packages/numpy/lib/function_base.py\u001b[0m in \u001b[0;36m_ureduce\u001b[0;34m(a, func, **kwargs)\u001b[0m\n\u001b[1;32m   3542\u001b[0m         \u001b[0mkeepdim\u001b[0m \u001b[0;34m=\u001b[0m \u001b[0mlist\u001b[0m\u001b[0;34m(\u001b[0m\u001b[0ma\u001b[0m\u001b[0;34m.\u001b[0m\u001b[0mshape\u001b[0m\u001b[0;34m)\u001b[0m\u001b[0;34m\u001b[0m\u001b[0;34m\u001b[0m\u001b[0m\n\u001b[1;32m   3543\u001b[0m         \u001b[0mnd\u001b[0m \u001b[0;34m=\u001b[0m \u001b[0ma\u001b[0m\u001b[0;34m.\u001b[0m\u001b[0mndim\u001b[0m\u001b[0;34m\u001b[0m\u001b[0;34m\u001b[0m\u001b[0m\n\u001b[0;32m-> 3544\u001b[0;31m         \u001b[0maxis\u001b[0m \u001b[0;34m=\u001b[0m \u001b[0m_nx\u001b[0m\u001b[0;34m.\u001b[0m\u001b[0mnormalize_axis_tuple\u001b[0m\u001b[0;34m(\u001b[0m\u001b[0maxis\u001b[0m\u001b[0;34m,\u001b[0m \u001b[0mnd\u001b[0m\u001b[0;34m)\u001b[0m\u001b[0;34m\u001b[0m\u001b[0;34m\u001b[0m\u001b[0m\n\u001b[0m\u001b[1;32m   3545\u001b[0m \u001b[0;34m\u001b[0m\u001b[0m\n\u001b[1;32m   3546\u001b[0m         \u001b[0;32mfor\u001b[0m \u001b[0max\u001b[0m \u001b[0;32min\u001b[0m \u001b[0maxis\u001b[0m\u001b[0;34m:\u001b[0m\u001b[0;34m\u001b[0m\u001b[0;34m\u001b[0m\u001b[0m\n",
            "\u001b[0;32m/usr/local/lib/python3.7/dist-packages/numpy/core/numeric.py\u001b[0m in \u001b[0;36mnormalize_axis_tuple\u001b[0;34m(axis, ndim, argname, allow_duplicate)\u001b[0m\n\u001b[1;32m   1383\u001b[0m             \u001b[0;32mpass\u001b[0m\u001b[0;34m\u001b[0m\u001b[0;34m\u001b[0m\u001b[0m\n\u001b[1;32m   1384\u001b[0m     \u001b[0;31m# Going via an iterator directly is slower than via list comprehension.\u001b[0m\u001b[0;34m\u001b[0m\u001b[0;34m\u001b[0m\u001b[0;34m\u001b[0m\u001b[0m\n\u001b[0;32m-> 1385\u001b[0;31m     \u001b[0maxis\u001b[0m \u001b[0;34m=\u001b[0m \u001b[0mtuple\u001b[0m\u001b[0;34m(\u001b[0m\u001b[0;34m[\u001b[0m\u001b[0mnormalize_axis_index\u001b[0m\u001b[0;34m(\u001b[0m\u001b[0max\u001b[0m\u001b[0;34m,\u001b[0m \u001b[0mndim\u001b[0m\u001b[0;34m,\u001b[0m \u001b[0margname\u001b[0m\u001b[0;34m)\u001b[0m \u001b[0;32mfor\u001b[0m \u001b[0max\u001b[0m \u001b[0;32min\u001b[0m \u001b[0maxis\u001b[0m\u001b[0;34m]\u001b[0m\u001b[0;34m)\u001b[0m\u001b[0;34m\u001b[0m\u001b[0;34m\u001b[0m\u001b[0m\n\u001b[0m\u001b[1;32m   1386\u001b[0m     \u001b[0;32mif\u001b[0m \u001b[0;32mnot\u001b[0m \u001b[0mallow_duplicate\u001b[0m \u001b[0;32mand\u001b[0m \u001b[0mlen\u001b[0m\u001b[0;34m(\u001b[0m\u001b[0mset\u001b[0m\u001b[0;34m(\u001b[0m\u001b[0maxis\u001b[0m\u001b[0;34m)\u001b[0m\u001b[0;34m)\u001b[0m \u001b[0;34m!=\u001b[0m \u001b[0mlen\u001b[0m\u001b[0;34m(\u001b[0m\u001b[0maxis\u001b[0m\u001b[0;34m)\u001b[0m\u001b[0;34m:\u001b[0m\u001b[0;34m\u001b[0m\u001b[0;34m\u001b[0m\u001b[0m\n\u001b[1;32m   1387\u001b[0m         \u001b[0;32mif\u001b[0m \u001b[0margname\u001b[0m\u001b[0;34m:\u001b[0m\u001b[0;34m\u001b[0m\u001b[0;34m\u001b[0m\u001b[0m\n",
            "\u001b[0;32m/usr/local/lib/python3.7/dist-packages/numpy/core/numeric.py\u001b[0m in \u001b[0;36m<listcomp>\u001b[0;34m(.0)\u001b[0m\n\u001b[1;32m   1383\u001b[0m             \u001b[0;32mpass\u001b[0m\u001b[0;34m\u001b[0m\u001b[0;34m\u001b[0m\u001b[0m\n\u001b[1;32m   1384\u001b[0m     \u001b[0;31m# Going via an iterator directly is slower than via list comprehension.\u001b[0m\u001b[0;34m\u001b[0m\u001b[0;34m\u001b[0m\u001b[0;34m\u001b[0m\u001b[0m\n\u001b[0;32m-> 1385\u001b[0;31m     \u001b[0maxis\u001b[0m \u001b[0;34m=\u001b[0m \u001b[0mtuple\u001b[0m\u001b[0;34m(\u001b[0m\u001b[0;34m[\u001b[0m\u001b[0mnormalize_axis_index\u001b[0m\u001b[0;34m(\u001b[0m\u001b[0max\u001b[0m\u001b[0;34m,\u001b[0m \u001b[0mndim\u001b[0m\u001b[0;34m,\u001b[0m \u001b[0margname\u001b[0m\u001b[0;34m)\u001b[0m \u001b[0;32mfor\u001b[0m \u001b[0max\u001b[0m \u001b[0;32min\u001b[0m \u001b[0maxis\u001b[0m\u001b[0;34m]\u001b[0m\u001b[0;34m)\u001b[0m\u001b[0;34m\u001b[0m\u001b[0;34m\u001b[0m\u001b[0m\n\u001b[0m\u001b[1;32m   1386\u001b[0m     \u001b[0;32mif\u001b[0m \u001b[0;32mnot\u001b[0m \u001b[0mallow_duplicate\u001b[0m \u001b[0;32mand\u001b[0m \u001b[0mlen\u001b[0m\u001b[0;34m(\u001b[0m\u001b[0mset\u001b[0m\u001b[0;34m(\u001b[0m\u001b[0maxis\u001b[0m\u001b[0;34m)\u001b[0m\u001b[0;34m)\u001b[0m \u001b[0;34m!=\u001b[0m \u001b[0mlen\u001b[0m\u001b[0;34m(\u001b[0m\u001b[0maxis\u001b[0m\u001b[0;34m)\u001b[0m\u001b[0;34m:\u001b[0m\u001b[0;34m\u001b[0m\u001b[0;34m\u001b[0m\u001b[0m\n\u001b[1;32m   1387\u001b[0m         \u001b[0;32mif\u001b[0m \u001b[0margname\u001b[0m\u001b[0;34m:\u001b[0m\u001b[0;34m\u001b[0m\u001b[0;34m\u001b[0m\u001b[0m\n",
            "\u001b[0;31mAxisError\u001b[0m: axis 1 is out of bounds for array of dimension 1"
          ]
        }
      ]
    },
    {
      "cell_type": "markdown",
      "source": [
        "(b) For the array: a = np.array([-1.8, -1.6, -0.5, 0.5,1.6, 1.8, 3.0]). Find floor, ceiling \n",
        "and truncated value, rounded values\n"
      ],
      "metadata": {
        "id": "kwYoYV0jVboY"
      }
    },
    {
      "cell_type": "code",
      "source": [
        "a = np.array([-1.8, -1.6, -0.5, 0.5,1.6, 1.8, 3.0])\n",
        "print(f\"Floor values : \\n {np.floor(a)}\")\n",
        "print(f\"Ceil values : \\n {np.ceil(a)}\")\n",
        "print(f\"Trucated values : \\n {np.trunc(a)}\")\n",
        "print(f\"Rounded values : \\n {np.round(a)}\")"
      ],
      "metadata": {
        "colab": {
          "base_uri": "https://localhost:8080/"
        },
        "id": "HzHQS5wRVMNT",
        "outputId": "c2e9a23a-f036-43af-e104-8be9b8900386"
      },
      "execution_count": 29,
      "outputs": [
        {
          "output_type": "stream",
          "name": "stdout",
          "text": [
            "Floor values : \n",
            " [-2. -2. -1.  0.  1.  1.  3.]\n",
            "Ceil values : \n",
            " [-1. -1. -0.  1.  2.  2.  3.]\n",
            "Trucated values : \n",
            " [-1. -1. -0.  0.  1.  1.  3.]\n",
            "Rounded values : \n",
            " [-2. -2. -0.  0.  2.  2.  3.]\n"
          ]
        }
      ]
    },
    {
      "cell_type": "markdown",
      "source": [
        "Q3: Based on Searching and Sorting \n",
        "\n",
        "(a) For the array: array = np.array([10, 52, 62, 16, 16, 54, 453]), find\n",
        "\n",
        "i. Sorted array \n",
        "\n",
        "ii. Indices of sorted array \n",
        "\n",
        "iii. 4 smallest elements \n",
        "\n",
        "iv. 5 largest elements \n"
      ],
      "metadata": {
        "id": "SnvXiR6jWTEg"
      }
    },
    {
      "cell_type": "code",
      "source": [
        "array = np.array([10, 52, 62, 16, 16, 54, 453])\n",
        "print(f\"Sorted array : \\n {np.sort(array)}\")\n",
        "print(f\"Indices of sorted array : \\n {np.argsort(array)}\")\n",
        "arr1 = np.sort(array)\n",
        "print(f\"4 smallest elements : /n {arr1[:4]}\")\n",
        "print(f\"5 largest elements : /n {arr1[-5:]}\")"
      ],
      "metadata": {
        "colab": {
          "base_uri": "https://localhost:8080/"
        },
        "id": "EIr0Gg9NWSZJ",
        "outputId": "cdf9e915-2006-4d00-9352-6e164491afc5"
      },
      "execution_count": 32,
      "outputs": [
        {
          "output_type": "stream",
          "name": "stdout",
          "text": [
            "Sorted array : \n",
            " [ 10  16  16  52  54  62 453]\n",
            "Indices of sorted array : \n",
            " [0 3 4 1 5 2 6]\n",
            "4 smallest elements : /n [10 16 16 52]\n",
            "5 largest elements : /n [ 16  52  54  62 453]\n"
          ]
        }
      ]
    },
    {
      "cell_type": "markdown",
      "source": [
        "(b) For the array: array = np.array([1.0, 1.2, 2.2, 2.0, 3.0, 2.0]), find \n",
        "\n",
        "i. Integer elements only \n",
        "\n",
        "ii. Float elements only \n"
      ],
      "metadata": {
        "id": "lJeLdcQjYBYq"
      }
    },
    {
      "cell_type": "code",
      "source": [
        "array = np.array([1.0, 1.2, 2.2, 2.0, 3.0, 2.0])\n",
        "\n",
        "def isInt(num):\n",
        "    return np.equal(np.mod(num, 1), 0)\n",
        "\n",
        "for num in array:\n",
        "    if isInt(num):\n",
        "        print(num, \"is an integer\")\n"
      ],
      "metadata": {
        "colab": {
          "base_uri": "https://localhost:8080/"
        },
        "id": "4uJYwcplXtzR",
        "outputId": "e4012cb9-73d8-496f-82fc-62d84f8d8498"
      },
      "execution_count": 39,
      "outputs": [
        {
          "output_type": "stream",
          "name": "stdout",
          "text": [
            "1.0 is an integer\n",
            "2.0 is an integer\n",
            "3.0 is an integer\n",
            "2.0 is an integer\n"
          ]
        }
      ]
    },
    {
      "cell_type": "markdown",
      "source": [
        "Q4: \n",
        "(a) Write a function named img_to_array(path) that reads an image from a specified path and \n",
        "save it as text file on local machine? (Note: use separate cases for RGB and Grey Scale \n",
        "images) \n"
      ],
      "metadata": {
        "id": "7shG6_ixbrnA"
      }
    },
    {
      "cell_type": "code",
      "source": [
        "!pip install Pillow\n",
        "from PIL import Image"
      ],
      "metadata": {
        "colab": {
          "base_uri": "https://localhost:8080/"
        },
        "id": "50oXMveXbrX0",
        "outputId": "861090bd-5df2-49b6-bfd0-12f79bb72978"
      },
      "execution_count": 43,
      "outputs": [
        {
          "output_type": "stream",
          "name": "stdout",
          "text": [
            "Looking in indexes: https://pypi.org/simple, https://us-python.pkg.dev/colab-wheels/public/simple/\n",
            "Requirement already satisfied: Pillow in /usr/local/lib/python3.7/dist-packages (7.1.2)\n"
          ]
        }
      ]
    },
    {
      "cell_type": "code",
      "source": [
        "def img_to_array(path):\n",
        "  image = Image.open(path)\n",
        "  data = np.asarray(image)\n",
        "  with open(\"file.txt\",\"w\") as file:\n",
        "    file.write(f\"{data}\")\n",
        "\n",
        "print(\"Greay scale image\")\n",
        "img_to_array('/content/sample_data/OIP.jpg')\n",
        "print(\"RGB image\")\n",
        "img_to_array('/content/sample_data/OIP (1).jpg')"
      ],
      "metadata": {
        "colab": {
          "base_uri": "https://localhost:8080/"
        },
        "id": "Uzgsj29mdGf9",
        "outputId": "87b1c617-b31b-40d6-8eda-0a7d71eba0a6"
      },
      "execution_count": 46,
      "outputs": [
        {
          "output_type": "stream",
          "name": "stdout",
          "text": [
            "Greay scale image\n",
            "RGB image\n"
          ]
        }
      ]
    },
    {
      "cell_type": "markdown",
      "source": [
        "(b) Load the saved file into jupyter notebook?"
      ],
      "metadata": {
        "id": "LawNX3k_hdJt"
      }
    },
    {
      "cell_type": "code",
      "source": [
        ""
      ],
      "metadata": {
        "id": "f9UgGcFMhc0B"
      },
      "execution_count": null,
      "outputs": []
    }
  ]
}