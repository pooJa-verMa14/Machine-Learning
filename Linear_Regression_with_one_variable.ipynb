{
  "nbformat": 4,
  "nbformat_minor": 0,
  "metadata": {
    "colab": {
      "name": "Linear Regression with one variable.ipynb",
      "provenance": [],
      "mount_file_id": "1_c2svMn1tlbLp3b-BFCKXbLd_NOWMUxU",
      "authorship_tag": "ABX9TyNljygXNBb4potNmQpvj2WD",
      "include_colab_link": true
    },
    "kernelspec": {
      "name": "python3",
      "display_name": "Python 3"
    },
    "language_info": {
      "name": "python"
    }
  },
  "cells": [
    {
      "cell_type": "markdown",
      "metadata": {
        "id": "view-in-github",
        "colab_type": "text"
      },
      "source": [
        "<a href=\"https://colab.research.google.com/github/pooJa-verMa14/Machine-Learning/blob/main/Linear_Regression_with_one_variable.ipynb\" target=\"_parent\"><img src=\"https://colab.research.google.com/assets/colab-badge.svg\" alt=\"Open In Colab\"/></a>"
      ]
    },
    {
      "cell_type": "markdown",
      "source": [
        "**1 Linear Regression with one variable**"
      ],
      "metadata": {
        "id": "up7j7ZHOX-4h"
      }
    },
    {
      "cell_type": "markdown",
      "source": [
        "https://drive.google.com/drive/u/1/folders/1zpbMkootmlABva6evQr2tsnMPCsBiazv\n",
        "\n",
        "Link to download Dataset\n",
        "\n",
        "ex1data1.txt - Dataset for linear regression with one variable\n",
        "\n",
        "ex1data2.txt - Dataset for linear regression with multiple variable\n"
      ],
      "metadata": {
        "id": "HWIYvo_UVq8r"
      }
    },
    {
      "cell_type": "code",
      "source": [
        "# Machine Learning Online Class - Exercise 1: Linear Regression\n",
        "\n",
        "#  Instructions\n",
        "#  ------------\n",
        "# \n",
        "#  This file contains code that helps you get started on the\n",
        "#  linear exercise. You will need to complete the following functions \n",
        "#  in this exericse:\n",
        "#\n",
        "#     warmUpExercise\n",
        "#     plotData\n",
        "#     gradientDescent\n",
        "#     computeCost\n",
        "#     gradientDescentMulti\n",
        "#     computeCostMulti\n",
        "#     featureNormalize\n",
        "#     normalEqn\n",
        "#\n",
        "#  For this exercise, you will not need to change any code in this file,\n",
        "#  or any other files other than those mentioned above.\n",
        "#\n",
        "# x refers to the population size in 10,000s\n",
        "# y refers to the profit in $10,000s\n",
        "#\n"
      ],
      "metadata": {
        "id": "76FjD1X6HnAX"
      },
      "execution_count": 1,
      "outputs": []
    },
    {
      "cell_type": "code",
      "execution_count": 3,
      "metadata": {
        "id": "bDKdn6shlKmh"
      },
      "outputs": [],
      "source": [
        "import numpy as np    # Used to solve linear algebra problems in python"
      ]
    },
    {
      "cell_type": "code",
      "source": [
        "import pandas as pd   # Tool for loading data"
      ],
      "metadata": {
        "id": "4MC9xfzpfyxf"
      },
      "execution_count": 4,
      "outputs": []
    },
    {
      "cell_type": "code",
      "source": [
        "def warmUpExercise():\n",
        "#WARMUPEXERCISE Example function in octave\n",
        "#WARMUPEXERCISE() is an example function that returns the 5x5 identity matrix\n",
        "\n",
        "# ============= YOUR CODE HERE ==============\n",
        "  return np.identity(5)\n",
        "# ==========================================="
      ],
      "metadata": {
        "id": "wLEBikmSWcXR"
      },
      "execution_count": 5,
      "outputs": []
    },
    {
      "cell_type": "code",
      "source": [
        "# ==================== Part 1: Basic Function ====================\n",
        "# Complete warmUpExercise\n",
        "\n",
        "print('Running warmUpExercise ... ')\n",
        "print('5x5 Identity Matrix: ')\n",
        "warmUpExercise()"
      ],
      "metadata": {
        "colab": {
          "base_uri": "https://localhost:8080/"
        },
        "id": "rZTuc5MoHgFo",
        "outputId": "c5327ebd-232b-40b4-e515-881ee7bd7ebe"
      },
      "execution_count": 6,
      "outputs": [
        {
          "output_type": "stream",
          "name": "stdout",
          "text": [
            "Running warmUpExercise ... \n",
            "5x5 Identity Matrix: \n"
          ]
        },
        {
          "output_type": "execute_result",
          "data": {
            "text/plain": [
              "array([[1., 0., 0., 0., 0.],\n",
              "       [0., 1., 0., 0., 0.],\n",
              "       [0., 0., 1., 0., 0.],\n",
              "       [0., 0., 0., 1., 0.],\n",
              "       [0., 0., 0., 0., 1.]])"
            ]
          },
          "metadata": {},
          "execution_count": 6
        }
      ]
    },
    {
      "cell_type": "code",
      "source": [
        "import matplotlib.pyplot as plt   # DataVisualization library in python"
      ],
      "metadata": {
        "id": "STkSggs5bmPZ"
      },
      "execution_count": 7,
      "outputs": []
    },
    {
      "cell_type": "code",
      "source": [
        "def plotData(x, y,label1):\n",
        "#   PLOTDATA Plots the data points x and y into a new figure \n",
        "#   PLOTDATA(x,y) plots the data points and gives the figure axes labels of\n",
        "#   population and profit.\n",
        "\n",
        "# ====================== YOUR CODE HERE ======================\n",
        "# Instructions: Plot the training data into a figure using the \n",
        "#               matplotlib library. Set the axes labels using\n",
        "#               the \"plt.xlabel\" and \"plt.ylabel\" commands. Assume the \n",
        "#               population and revenue data have been passed in\n",
        "#               as the x and y arguments of this function.\n",
        "#\n",
        "# Hint: You can use the 'red and marker = '*' option with plot to have the markers\n",
        "#       appear as red crosses. Furthermore, you can make the\n",
        "#       markers larger by using plot(..., 'red', Marker = '*' ,s= 10);\n",
        "\n",
        "    plt.scatter(x,y,label=label1)              # Function to plot Scatter \n",
        "    plt.xlabel('Population of city in 10,000s');     \n",
        "    plt.ylabel('Profit in $10,000s');\n",
        "\n",
        "# ============================================================\n"
      ],
      "metadata": {
        "id": "X4rEt-w4VqiP"
      },
      "execution_count": 8,
      "outputs": []
    },
    {
      "cell_type": "code",
      "source": [
        "# ======================= Part 2: Plotting =======================\n",
        "\n",
        "print('Plotting Data ...')\n",
        "data = pd.read_csv('/content/drive/MyDrive/Machine learning/ex1/ex1data1.txt')\n",
        "X = data.iloc[:, [0]]\n",
        "y = data.iloc[:, [1]]\n",
        "m = len(y); # number of training examples\n",
        "\n",
        "# Plot Data\n",
        "# Note: You have to complete the code in plotData\n",
        "plotData(X, y,'Training data')\n"
      ],
      "metadata": {
        "colab": {
          "base_uri": "https://localhost:8080/",
          "height": 297
        },
        "id": "VVfvSWZ2Hzqu",
        "outputId": "001e3f16-612c-4064-ff75-23fa9856932f"
      },
      "execution_count": 17,
      "outputs": [
        {
          "output_type": "stream",
          "name": "stdout",
          "text": [
            "Plotting Data ...\n"
          ]
        },
        {
          "output_type": "display_data",
          "data": {
            "text/plain": [
              "<Figure size 432x288 with 1 Axes>"
            ],
            "image/png": "[encoded data removed]"
          },
          "metadata": {
            "needs_background": "light"
          }
        }
      ]
    },
    {
      "cell_type": "code",
      "source": [
        "def computeCost(X, y, theta):\n",
        "  #   COMPUTECOST Compute cost for linear regression\n",
        "  #   COMPUTECOST(X, y, theta) computes the cost of using theta as the\n",
        "  #   parameter for linear regression to fit the data points in X and y\n",
        "\n",
        "  # Initialize some useful values\n",
        "   m = len(y)  # number of training examples\n",
        "\n",
        "  # You need to return the following variables correctly \n",
        "   J = 0\n",
        "\n",
        "  # ====================== YOUR CODE HERE ======================\n",
        "  # Instructions: Compute the cost of a particular choice of theta\n",
        "  #               You should set J to the cost.\n",
        "\n",
        "   h = np.dot(X,theta)\n",
        "   Square = (h-y)**2\n",
        "   J = 1/(2*m)*np.sum(Square)\n",
        "\n",
        "   return J\n",
        "\n",
        "#========================================================================="
      ],
      "metadata": {
        "id": "YDng0Kbzm_0K"
      },
      "execution_count": 10,
      "outputs": []
    },
    {
      "cell_type": "code",
      "source": [
        "def gradientDescent1(X, y, theta, alpha, num_iters):\n",
        "    #   GRADIENTDESCENT Performs gradient descent to learn theta\n",
        "    #   theta = GRADIENTDESCENT(X, y, theta, alpha, num_iters) updates theta by \n",
        "    #   taking num_iters gradient steps with learning rate alpha\n",
        "\n",
        "    # Initialize some useful values\n",
        "    m = len(y) # number of training examples\n",
        "    J_history = np.zeros((num_iters, 1))    \n",
        "    for iter in range(num_iters):\n",
        "\n",
        "        # ====================== YOUR CODE HERE ======================\n",
        "        # Instructions: Perform a single gradient step on the parameter vector\n",
        "        #               theta. \n",
        "        #\n",
        "        # Hint: While debugging, it can be useful to print out the values\n",
        "        #      of the cost function (computeCost) and gradient here.\n",
        "        #\n",
        "\n",
        "        A = np.dot(X.transpose(),X)\n",
        "\n",
        "        delta = 1/m * (np.dot(A,theta) - np.dot(X.transpose(),y))\n",
        "        theta = theta - alpha*delta\n",
        "        #print(theta.shape)\n",
        "        # ============================================================\n",
        "\n",
        "        # Save the cost J in every iteration    \n",
        "        J_history[iter] = computeCost(X, y, theta)\n",
        "    return theta"
      ],
      "metadata": {
        "id": "qFyoC-NweCqV"
      },
      "execution_count": 18,
      "outputs": []
    },
    {
      "cell_type": "code",
      "source": [
        "def gradientDescent1(X, y, theta, alpha, num_iters):\n",
        "  m = len(y) # number of training examples\n",
        "  J_history = np.zeros((num_iters, 1))    \n",
        "  for iter in range(num_iters):\n",
        "    A = np.dot(X.transpose(),X)\n",
        "\n",
        "    delta = 1/m * (np.dot(A,theta) - np.dot(X.transpose(),y))\n",
        "    theta = theta - alpha*delta  \n",
        "    J_history[iter] = computeCost(X, y, theta)\n",
        "  return J_history \n"
      ],
      "metadata": {
        "id": "nQR8xuSgd6NJ"
      },
      "execution_count": 12,
      "outputs": []
    },
    {
      "cell_type": "code",
      "source": [
        "# =================== Part 3: Gradient descent ===================\n",
        "print('Running Gradient Descent ...\\n')\n",
        "\n",
        "X = np.append(np.ones((m,1)), X ,axis=1 )  # Add a column of ones to x\n",
        "theta = np.zeros((2, 1))  # initialize fitting parameters\n",
        "\n",
        "# Some gradient descent settings\n",
        "iterations = 1500\n",
        "alpha = 0.01\n",
        "\n",
        "# compute and display initial cost\n",
        "print(computeCost(X, y, theta))\n",
        "\n",
        "# run gradient descent\n",
        "theta = gradientDescent1(X, y, theta, alpha, iterations)\n",
        "print(theta.shape)\n",
        "\n",
        "# print theta to screen\n",
        "print(f'Theta found by gradient descent: {theta[0]}, {theta[1]}')"
      ],
      "metadata": {
        "colab": {
          "base_uri": "https://localhost:8080/"
        },
        "id": "FqZR-8BOBQFo",
        "outputId": "a8cde917-db34-43c4-d4d8-2a5279b2d42d"
      },
      "execution_count": 19,
      "outputs": [
        {
          "output_type": "stream",
          "name": "stdout",
          "text": [
            "Running Gradient Descent ...\n",
            "\n",
            "profit    32.072734\n",
            "dtype: float64\n",
            "(2, 1)\n",
            "Theta found by gradient descent: [-3.63029144], [1.16636235]\n"
          ]
        }
      ]
    },
    {
      "cell_type": "code",
      "source": [
        "# Plot the linear fit\n",
        "plotData(X[:, 1], y,'Training data')\n",
        "plt.plot(X[:, 1], np.dot(X,theta),'r',label = 'Linear Regression')\n",
        "plt.legend()"
      ],
      "metadata": {
        "colab": {
          "base_uri": "https://localhost:8080/",
          "height": 297
        },
        "id": "RhcO9cjHNNVT",
        "outputId": "924bca24-0c72-4417-8dee-3b782bcdfed2"
      },
      "execution_count": 20,
      "outputs": [
        {
          "output_type": "execute_result",
          "data": {
            "text/plain": [
              "<matplotlib.legend.Legend at 0x7f0d1e34d8d0>"
            ]
          },
          "metadata": {},
          "execution_count": 20
        },
        {
          "output_type": "display_data",
          "data": {
            "text/plain": [
              "<Figure size 432x288 with 1 Axes>"
            ],
            "image/png": "[encoded data removed]"
          },
          "metadata": {
            "needs_background": "light"
          }
        }
      ]
    },
    {
      "cell_type": "code",
      "source": [
        "# Predict values for population sizes of 35,000 and 70,000\n",
        "predict1 = np.dot([[1, 3.5]],theta)\n",
        "print(f'For population = 35,000, we predict a profit of {predict1*10000}');\n",
        "predict2 = np.dot([[1, 7]],theta)\n",
        "print(f'For population = 70,000, we predict a profit of {predict2*10000}');\n"
      ],
      "metadata": {
        "colab": {
          "base_uri": "https://localhost:8080/"
        },
        "id": "t_yoIZWIEKa5",
        "outputId": "8ffa1815-6516-4063-a121-c920abdc449d"
      },
      "execution_count": 21,
      "outputs": [
        {
          "output_type": "stream",
          "name": "stdout",
          "text": [
            "For population = 35,000, we predict a profit of [[4519.7678677]]\n",
            "For population = 70,000, we predict a profit of [[45342.45012945]]\n"
          ]
        }
      ]
    }
  ]
}